{
 "cells": [
  {
   "cell_type": "code",
   "execution_count": 2,
   "metadata": {},
   "outputs": [
    {
     "data": {
      "application/vnd.plotly.v1+json": {
       "config": {
        "plotlyServerURL": "https://plot.ly"
       },
       "data": [
        {
         "alignmentgroup": "True",
         "cliponaxis": false,
         "hovertemplate": "Date=%{x}<br>All Grades (Average)=%{y}<extra></extra>",
         "legendgroup": "",
         "marker": {
          "color": "#636efa",
          "pattern": {
           "shape": ""
          }
         },
         "name": "",
         "offsetgroup": "",
         "orientation": "v",
         "showlegend": false,
         "textangle": 0,
         "textfont": {
          "size": 12
         },
         "textposition": "auto",
         "texttemplate": "%{y}",
         "type": "bar",
         "x": [
          "Jan-1995",
          "Feb-1995",
          "Mar-1995",
          "Apr-1995",
          "May-1995",
          "Jun-1995",
          "Jul-1995",
          "Aug-1995",
          "Sep-1995",
          "Oct-1995",
          "Nov-1995",
          "Dec-1995",
          "Jan-1996",
          "Feb-1996",
          "Mar-1996",
          "Apr-1996",
          "May-1996",
          "Jun-1996",
          "Jul-1996",
          "Aug-1996",
          "Sep-1996",
          "Oct-1996",
          "Nov-1996",
          "Dec-1996",
          "Jan-1997",
          "Feb-1997",
          "Mar-1997",
          "Apr-1997",
          "May-1997",
          "Jun-1997",
          "Jul-1997",
          "Aug-1997",
          "Sep-1997",
          "Oct-1997",
          "Nov-1997",
          "Dec-1997",
          "Jan-1998",
          "Feb-1998",
          "Mar-1998",
          "Apr-1998",
          "May-1998",
          "Jun-1998",
          "Jul-1998",
          "Aug-1998",
          "Sep-1998",
          "Oct-1998",
          "Nov-1998",
          "Dec-1998",
          "Jan-1999",
          "Feb-1999",
          "Mar-1999",
          "Apr-1999",
          "May-1999",
          "Jun-1999",
          "Jul-1999",
          "Aug-1999",
          "Sep-1999",
          "Oct-1999",
          "Nov-1999",
          "Dec-1999",
          "Jan-2000",
          "Feb-2000",
          "Mar-2000",
          "Apr-2000",
          "May-2000",
          "Jun-2000",
          "Jul-2000",
          "Aug-2000",
          "Sep-2000",
          "Oct-2000",
          "Nov-2000",
          "Dec-2000",
          "Jan-2001",
          "Feb-2001",
          "Mar-2001",
          "Apr-2001",
          "May-2001",
          "Jun-2001",
          "Jul-2001",
          "Aug-2001",
          "Sep-2001",
          "Oct-2001",
          "Nov-2001",
          "Dec-2001",
          "Jan-2002",
          "Feb-2002",
          "Mar-2002",
          "Apr-2002",
          "May-2002",
          "Jun-2002",
          "Jul-2002",
          "Aug-2002",
          "Sep-2002",
          "Oct-2002",
          "Nov-2002",
          "Dec-2002",
          "Jan-2003",
          "Feb-2003",
          "Mar-2003",
          "Apr-2003",
          "May-2003",
          "Jun-2003",
          "Jul-2003",
          "Aug-2003",
          "Sep-2003",
          "Oct-2003",
          "Nov-2003",
          "Dec-2003",
          "Jan-2004",
          "Feb-2004",
          "Mar-2004",
          "Apr-2004",
          "May-2004",
          "Jun-2004",
          "Jul-2004",
          "Aug-2004",
          "Sep-2004",
          "Oct-2004",
          "Nov-2004",
          "Dec-2004",
          "Jan-2005",
          "Feb-2005",
          "Mar-2005",
          "Apr-2005",
          "May-2005",
          "Jun-2005",
          "Jul-2005",
          "Aug-2005",
          "Sep-2005",
          "Oct-2005",
          "Nov-2005",
          "Dec-2005",
          "Jan-2006",
          "Feb-2006",
          "Mar-2006",
          "Apr-2006",
          "May-2006",
          "Jun-2006",
          "Jul-2006",
          "Aug-2006",
          "Sep-2006",
          "Oct-2006",
          "Nov-2006",
          "Dec-2006",
          "Jan-2007",
          "Feb-2007",
          "Mar-2007",
          "Apr-2007",
          "May-2007",
          "Jun-2007",
          "Jul-2007",
          "Aug-2007",
          "Sep-2007",
          "Oct-2007",
          "Nov-2007",
          "Dec-2007",
          "Jan-2008",
          "Feb-2008",
          "Mar-2008",
          "Apr-2008",
          "May-2008",
          "Jun-2008",
          "Jul-2008",
          "Aug-2008",
          "Sep-2008",
          "Oct-2008",
          "Nov-2008",
          "Dec-2008",
          "Jan-2009",
          "Feb-2009",
          "Mar-2009",
          "Apr-2009",
          "May-2009",
          "Jun-2009",
          "Jul-2009",
          "Aug-2009",
          "Sep-2009",
          "Oct-2009",
          "Nov-2009",
          "Dec-2009",
          "Jan-2010",
          "Feb-2010",
          "Mar-2010",
          "Apr-2010",
          "May-2010",
          "Jun-2010",
          "Jul-2010",
          "Aug-2010",
          "Sep-2010",
          "Oct-2010",
          "Nov-2010",
          "Dec-2010",
          "Jan-2011",
          "Feb-2011",
          "Mar-2011",
          "Apr-2011",
          "May-2011",
          "Jun-2011",
          "Jul-2011",
          "Aug-2011",
          "Sep-2011",
          "Oct-2011",
          "Nov-2011",
          "Dec-2011",
          "Jan-2012",
          "Feb-2012",
          "Mar-2012",
          "Apr-2012",
          "May-2012",
          "Jun-2012",
          "Jul-2012",
          "Aug-2012",
          "Sep-2012",
          "Oct-2012",
          "Nov-2012",
          "Dec-2012",
          "Jan-2013",
          "Feb-2013",
          "Mar-2013",
          "Apr-2013",
          "May-2013",
          "Jun-2013",
          "Jul-2013",
          "Aug-2013",
          "Sep-2013",
          "Oct-2013",
          "Nov-2013",
          "Dec-2013",
          "Jan-2014",
          "Feb-2014",
          "Mar-2014",
          "Apr-2014",
          "May-2014",
          "Jun-2014",
          "Jul-2014",
          "Aug-2014",
          "Sep-2014",
          "Oct-2014",
          "Nov-2014",
          "Dec-2014",
          "Jan-2015",
          "Feb-2015",
          "Mar-2015",
          "Apr-2015",
          "May-2015",
          "Jun-2015",
          "Jul-2015",
          "Aug-2015",
          "Sep-2015",
          "Oct-2015",
          "Nov-2015",
          "Dec-2015",
          "Jan-2016",
          "Feb-2016",
          "Mar-2016",
          "Apr-2016",
          "May-2016",
          "Jun-2016",
          "Jul-2016",
          "Aug-2016",
          "Sep-2016",
          "Oct-2016",
          "Nov-2016",
          "Dec-2016",
          "Jan-2017",
          "Feb-2017",
          "Mar-2017",
          "Apr-2017",
          "May-2017",
          "Jun-2017",
          "Jul-2017",
          "Aug-2017",
          "Sep-2017",
          "Oct-2017",
          "Nov-2017",
          "Dec-2017",
          "Jan-2018",
          "Feb-2018",
          "Mar-2018",
          "Apr-2018",
          "May-2018",
          "Jun-2018",
          "Jul-2018",
          "Aug-2018",
          "Sep-2018",
          "Oct-2018",
          "Nov-2018",
          "Dec-2018",
          "Jan-2019",
          "Feb-2019",
          "Mar-2019",
          "Apr-2019",
          "May-2019",
          "Jun-2019",
          "Jul-2019",
          "Aug-2019",
          "Sep-2019",
          "Oct-2019",
          "Nov-2019",
          "Dec-2019",
          "Jan-2020",
          "Feb-2020",
          "Mar-2020",
          "Apr-2020",
          "May-2020",
          "Jun-2020",
          "Jul-2020",
          "Aug-2020",
          "Sep-2020",
          "Oct-2020",
          "Nov-2020",
          "Dec-2020",
          "Jan-2021",
          "Feb-2021",
          "Mar-2021",
          "Apr-2021",
          "May-2021",
          "Jun-2021",
          "Jul-2021",
          "Aug-2021",
          "Sep-2021",
          "Oct-2021",
          "Nov-2021",
          "Dec-2021",
          "Jan-2022",
          "Feb-2022"
         ],
         "xaxis": "x",
         "y": [
          1.13,
          1.12,
          1.119,
          1.157,
          1.225,
          1.239,
          1.201,
          1.17,
          1.158,
          1.134,
          1.109,
          1.118,
          1.137,
          1.136,
          1.183,
          1.275,
          1.324,
          1.3,
          1.272,
          1.251,
          1.247,
          1.249,
          1.278,
          1.282,
          1.283,
          1.276,
          1.251,
          1.244,
          1.245,
          1.242,
          1.22,
          1.268,
          1.276,
          1.242,
          1.216,
          1.177,
          1.132,
          1.096,
          1.064,
          1.077,
          1.105,
          1.103,
          1.094,
          1.065,
          1.049,
          1.059,
          1.036,
          0.987,
          0.98,
          0.962,
          1.022,
          1.171,
          1.171,
          1.154,
          1.197,
          1.26,
          1.295,
          1.285,
          1.292,
          1.313,
          1.329,
          1.415,
          1.556,
          1.506,
          1.526,
          1.666,
          1.591,
          1.506,
          1.588,
          1.571,
          1.557,
          1.483,
          1.487,
          1.49,
          1.45,
          1.591,
          1.738,
          1.658,
          1.466,
          1.461,
          1.557,
          1.357,
          1.212,
          1.127,
          1.148,
          1.155,
          1.289,
          1.439,
          1.434,
          1.424,
          1.438,
          1.438,
          1.441,
          1.486,
          1.461,
          1.429,
          1.5,
          1.655,
          1.734,
          1.633,
          1.539,
          1.533,
          1.554,
          1.661,
          1.721,
          1.606,
          1.555,
          1.522,
          1.614,
          1.69,
          1.778,
          1.839,
          2.023,
          2.013,
          1.954,
          1.92,
          1.912,
          2.042,
          2.023,
          1.887,
          1.875,
          1.953,
          2.12,
          2.285,
          2.205,
          2.198,
          2.333,
          2.529,
          2.951,
          2.765,
          2.303,
          2.229,
          2.36,
          2.326,
          2.468,
          2.787,
          2.953,
          2.93,
          3.025,
          2.999,
          2.606,
          2.293,
          2.275,
          2.359,
          2.289,
          2.323,
          2.609,
          2.891,
          3.187,
          3.102,
          3.011,
          2.834,
          2.849,
          2.853,
          3.128,
          3.07,
          3.095,
          3.078,
          3.293,
          3.507,
          3.815,
          4.105,
          4.114,
          3.833,
          3.756,
          3.112,
          2.208,
          1.745,
          1.84,
          1.975,
          2.011,
          2.102,
          2.316,
          2.681,
          2.582,
          2.67,
          2.609,
          2.605,
          2.706,
          2.663,
          2.769,
          2.699,
          2.824,
          2.9,
          2.89,
          2.785,
          2.782,
          2.783,
          2.757,
          2.853,
          2.913,
          3.048,
          3.148,
          3.264,
          3.615,
          3.852,
          3.96,
          3.735,
          3.705,
          3.696,
          3.667,
          3.506,
          3.443,
          3.326,
          3.44,
          3.64,
          3.907,
          3.958,
          3.791,
          3.596,
          3.498,
          3.78,
          3.91,
          3.812,
          3.521,
          3.381,
          3.391,
          3.736,
          3.779,
          3.638,
          3.675,
          3.689,
          3.661,
          3.645,
          3.604,
          3.42,
          3.322,
          3.357,
          3.392,
          3.434,
          3.606,
          3.735,
          3.75,
          3.766,
          3.688,
          3.565,
          3.484,
          3.255,
          2.997,
          2.632,
          2.208,
          2.301,
          2.546,
          2.555,
          2.802,
          2.885,
          2.88,
          2.726,
          2.462,
          2.387,
          2.26,
          2.144,
          2.057,
          1.872,
          2.071,
          2.216,
          2.371,
          2.467,
          2.345,
          2.284,
          2.327,
          2.359,
          2.295,
          2.366,
          2.458,
          2.416,
          2.437,
          2.528,
          2.503,
          2.46,
          2.414,
          2.494,
          2.761,
          2.621,
          2.678,
          2.594,
          2.671,
          2.705,
          2.709,
          2.873,
          2.987,
          2.97,
          2.928,
          2.914,
          2.915,
          2.943,
          2.736,
          2.457,
          2.338,
          2.393,
          2.594,
          2.881,
          2.946,
          2.804,
          2.823,
          2.707,
          2.681,
          2.724,
          2.693,
          2.645,
          2.636,
          2.533,
          2.329,
          1.938,
          1.961,
          2.17,
          2.272,
          2.272,
          2.274,
          2.248,
          2.2,
          2.284,
          2.42,
          2.587,
          2.898,
          2.948,
          3.076,
          3.157,
          3.231,
          3.255,
          3.272,
          3.384,
          3.491,
          3.406,
          3.413,
          3.611
         ],
         "yaxis": "y"
        }
       ],
       "layout": {
        "barmode": "relative",
        "legend": {
         "tracegroupgap": 0
        },
        "template": {
         "data": {
          "bar": [
           {
            "error_x": {
             "color": "#2a3f5f"
            },
            "error_y": {
             "color": "#2a3f5f"
            },
            "marker": {
             "line": {
              "color": "#E5ECF6",
              "width": 0.5
             },
             "pattern": {
              "fillmode": "overlay",
              "size": 10,
              "solidity": 0.2
             }
            },
            "type": "bar"
           }
          ],
          "barpolar": [
           {
            "marker": {
             "line": {
              "color": "#E5ECF6",
              "width": 0.5
             },
             "pattern": {
              "fillmode": "overlay",
              "size": 10,
              "solidity": 0.2
             }
            },
            "type": "barpolar"
           }
          ],
          "carpet": [
           {
            "aaxis": {
             "endlinecolor": "#2a3f5f",
             "gridcolor": "white",
             "linecolor": "white",
             "minorgridcolor": "white",
             "startlinecolor": "#2a3f5f"
            },
            "baxis": {
             "endlinecolor": "#2a3f5f",
             "gridcolor": "white",
             "linecolor": "white",
             "minorgridcolor": "white",
             "startlinecolor": "#2a3f5f"
            },
            "type": "carpet"
           }
          ],
          "choropleth": [
           {
            "colorbar": {
             "outlinewidth": 0,
             "ticks": ""
            },
            "type": "choropleth"
           }
          ],
          "contour": [
           {
            "colorbar": {
             "outlinewidth": 0,
             "ticks": ""
            },
            "colorscale": [
             [
              0,
              "#0d0887"
             ],
             [
              0.1111111111111111,
              "#46039f"
             ],
             [
              0.2222222222222222,
              "#7201a8"
             ],
             [
              0.3333333333333333,
              "#9c179e"
             ],
             [
              0.4444444444444444,
              "#bd3786"
             ],
             [
              0.5555555555555556,
              "#d8576b"
             ],
             [
              0.6666666666666666,
              "#ed7953"
             ],
             [
              0.7777777777777778,
              "#fb9f3a"
             ],
             [
              0.8888888888888888,
              "#fdca26"
             ],
             [
              1,
              "#f0f921"
             ]
            ],
            "type": "contour"
           }
          ],
          "contourcarpet": [
           {
            "colorbar": {
             "outlinewidth": 0,
             "ticks": ""
            },
            "type": "contourcarpet"
           }
          ],
          "heatmap": [
           {
            "colorbar": {
             "outlinewidth": 0,
             "ticks": ""
            },
            "colorscale": [
             [
              0,
              "#0d0887"
             ],
             [
              0.1111111111111111,
              "#46039f"
             ],
             [
              0.2222222222222222,
              "#7201a8"
             ],
             [
              0.3333333333333333,
              "#9c179e"
             ],
             [
              0.4444444444444444,
              "#bd3786"
             ],
             [
              0.5555555555555556,
              "#d8576b"
             ],
             [
              0.6666666666666666,
              "#ed7953"
             ],
             [
              0.7777777777777778,
              "#fb9f3a"
             ],
             [
              0.8888888888888888,
              "#fdca26"
             ],
             [
              1,
              "#f0f921"
             ]
            ],
            "type": "heatmap"
           }
          ],
          "heatmapgl": [
           {
            "colorbar": {
             "outlinewidth": 0,
             "ticks": ""
            },
            "colorscale": [
             [
              0,
              "#0d0887"
             ],
             [
              0.1111111111111111,
              "#46039f"
             ],
             [
              0.2222222222222222,
              "#7201a8"
             ],
             [
              0.3333333333333333,
              "#9c179e"
             ],
             [
              0.4444444444444444,
              "#bd3786"
             ],
             [
              0.5555555555555556,
              "#d8576b"
             ],
             [
              0.6666666666666666,
              "#ed7953"
             ],
             [
              0.7777777777777778,
              "#fb9f3a"
             ],
             [
              0.8888888888888888,
              "#fdca26"
             ],
             [
              1,
              "#f0f921"
             ]
            ],
            "type": "heatmapgl"
           }
          ],
          "histogram": [
           {
            "marker": {
             "pattern": {
              "fillmode": "overlay",
              "size": 10,
              "solidity": 0.2
             }
            },
            "type": "histogram"
           }
          ],
          "histogram2d": [
           {
            "colorbar": {
             "outlinewidth": 0,
             "ticks": ""
            },
            "colorscale": [
             [
              0,
              "#0d0887"
             ],
             [
              0.1111111111111111,
              "#46039f"
             ],
             [
              0.2222222222222222,
              "#7201a8"
             ],
             [
              0.3333333333333333,
              "#9c179e"
             ],
             [
              0.4444444444444444,
              "#bd3786"
             ],
             [
              0.5555555555555556,
              "#d8576b"
             ],
             [
              0.6666666666666666,
              "#ed7953"
             ],
             [
              0.7777777777777778,
              "#fb9f3a"
             ],
             [
              0.8888888888888888,
              "#fdca26"
             ],
             [
              1,
              "#f0f921"
             ]
            ],
            "type": "histogram2d"
           }
          ],
          "histogram2dcontour": [
           {
            "colorbar": {
             "outlinewidth": 0,
             "ticks": ""
            },
            "colorscale": [
             [
              0,
              "#0d0887"
             ],
             [
              0.1111111111111111,
              "#46039f"
             ],
             [
              0.2222222222222222,
              "#7201a8"
             ],
             [
              0.3333333333333333,
              "#9c179e"
             ],
             [
              0.4444444444444444,
              "#bd3786"
             ],
             [
              0.5555555555555556,
              "#d8576b"
             ],
             [
              0.6666666666666666,
              "#ed7953"
             ],
             [
              0.7777777777777778,
              "#fb9f3a"
             ],
             [
              0.8888888888888888,
              "#fdca26"
             ],
             [
              1,
              "#f0f921"
             ]
            ],
            "type": "histogram2dcontour"
           }
          ],
          "mesh3d": [
           {
            "colorbar": {
             "outlinewidth": 0,
             "ticks": ""
            },
            "type": "mesh3d"
           }
          ],
          "parcoords": [
           {
            "line": {
             "colorbar": {
              "outlinewidth": 0,
              "ticks": ""
             }
            },
            "type": "parcoords"
           }
          ],
          "pie": [
           {
            "automargin": true,
            "type": "pie"
           }
          ],
          "scatter": [
           {
            "marker": {
             "colorbar": {
              "outlinewidth": 0,
              "ticks": ""
             }
            },
            "type": "scatter"
           }
          ],
          "scatter3d": [
           {
            "line": {
             "colorbar": {
              "outlinewidth": 0,
              "ticks": ""
             }
            },
            "marker": {
             "colorbar": {
              "outlinewidth": 0,
              "ticks": ""
             }
            },
            "type": "scatter3d"
           }
          ],
          "scattercarpet": [
           {
            "marker": {
             "colorbar": {
              "outlinewidth": 0,
              "ticks": ""
             }
            },
            "type": "scattercarpet"
           }
          ],
          "scattergeo": [
           {
            "marker": {
             "colorbar": {
              "outlinewidth": 0,
              "ticks": ""
             }
            },
            "type": "scattergeo"
           }
          ],
          "scattergl": [
           {
            "marker": {
             "colorbar": {
              "outlinewidth": 0,
              "ticks": ""
             }
            },
            "type": "scattergl"
           }
          ],
          "scattermapbox": [
           {
            "marker": {
             "colorbar": {
              "outlinewidth": 0,
              "ticks": ""
             }
            },
            "type": "scattermapbox"
           }
          ],
          "scatterpolar": [
           {
            "marker": {
             "colorbar": {
              "outlinewidth": 0,
              "ticks": ""
             }
            },
            "type": "scatterpolar"
           }
          ],
          "scatterpolargl": [
           {
            "marker": {
             "colorbar": {
              "outlinewidth": 0,
              "ticks": ""
             }
            },
            "type": "scatterpolargl"
           }
          ],
          "scatterternary": [
           {
            "marker": {
             "colorbar": {
              "outlinewidth": 0,
              "ticks": ""
             }
            },
            "type": "scatterternary"
           }
          ],
          "surface": [
           {
            "colorbar": {
             "outlinewidth": 0,
             "ticks": ""
            },
            "colorscale": [
             [
              0,
              "#0d0887"
             ],
             [
              0.1111111111111111,
              "#46039f"
             ],
             [
              0.2222222222222222,
              "#7201a8"
             ],
             [
              0.3333333333333333,
              "#9c179e"
             ],
             [
              0.4444444444444444,
              "#bd3786"
             ],
             [
              0.5555555555555556,
              "#d8576b"
             ],
             [
              0.6666666666666666,
              "#ed7953"
             ],
             [
              0.7777777777777778,
              "#fb9f3a"
             ],
             [
              0.8888888888888888,
              "#fdca26"
             ],
             [
              1,
              "#f0f921"
             ]
            ],
            "type": "surface"
           }
          ],
          "table": [
           {
            "cells": {
             "fill": {
              "color": "#EBF0F8"
             },
             "line": {
              "color": "white"
             }
            },
            "header": {
             "fill": {
              "color": "#C8D4E3"
             },
             "line": {
              "color": "white"
             }
            },
            "type": "table"
           }
          ]
         },
         "layout": {
          "annotationdefaults": {
           "arrowcolor": "#2a3f5f",
           "arrowhead": 0,
           "arrowwidth": 1
          },
          "autotypenumbers": "strict",
          "coloraxis": {
           "colorbar": {
            "outlinewidth": 0,
            "ticks": ""
           }
          },
          "colorscale": {
           "diverging": [
            [
             0,
             "#8e0152"
            ],
            [
             0.1,
             "#c51b7d"
            ],
            [
             0.2,
             "#de77ae"
            ],
            [
             0.3,
             "#f1b6da"
            ],
            [
             0.4,
             "#fde0ef"
            ],
            [
             0.5,
             "#f7f7f7"
            ],
            [
             0.6,
             "#e6f5d0"
            ],
            [
             0.7,
             "#b8e186"
            ],
            [
             0.8,
             "#7fbc41"
            ],
            [
             0.9,
             "#4d9221"
            ],
            [
             1,
             "#276419"
            ]
           ],
           "sequential": [
            [
             0,
             "#0d0887"
            ],
            [
             0.1111111111111111,
             "#46039f"
            ],
            [
             0.2222222222222222,
             "#7201a8"
            ],
            [
             0.3333333333333333,
             "#9c179e"
            ],
            [
             0.4444444444444444,
             "#bd3786"
            ],
            [
             0.5555555555555556,
             "#d8576b"
            ],
            [
             0.6666666666666666,
             "#ed7953"
            ],
            [
             0.7777777777777778,
             "#fb9f3a"
            ],
            [
             0.8888888888888888,
             "#fdca26"
            ],
            [
             1,
             "#f0f921"
            ]
           ],
           "sequentialminus": [
            [
             0,
             "#0d0887"
            ],
            [
             0.1111111111111111,
             "#46039f"
            ],
            [
             0.2222222222222222,
             "#7201a8"
            ],
            [
             0.3333333333333333,
             "#9c179e"
            ],
            [
             0.4444444444444444,
             "#bd3786"
            ],
            [
             0.5555555555555556,
             "#d8576b"
            ],
            [
             0.6666666666666666,
             "#ed7953"
            ],
            [
             0.7777777777777778,
             "#fb9f3a"
            ],
            [
             0.8888888888888888,
             "#fdca26"
            ],
            [
             1,
             "#f0f921"
            ]
           ]
          },
          "colorway": [
           "#636efa",
           "#EF553B",
           "#00cc96",
           "#ab63fa",
           "#FFA15A",
           "#19d3f3",
           "#FF6692",
           "#B6E880",
           "#FF97FF",
           "#FECB52"
          ],
          "font": {
           "color": "#2a3f5f"
          },
          "geo": {
           "bgcolor": "white",
           "lakecolor": "white",
           "landcolor": "#E5ECF6",
           "showlakes": true,
           "showland": true,
           "subunitcolor": "white"
          },
          "hoverlabel": {
           "align": "left"
          },
          "hovermode": "closest",
          "mapbox": {
           "style": "light"
          },
          "paper_bgcolor": "white",
          "plot_bgcolor": "#E5ECF6",
          "polar": {
           "angularaxis": {
            "gridcolor": "white",
            "linecolor": "white",
            "ticks": ""
           },
           "bgcolor": "#E5ECF6",
           "radialaxis": {
            "gridcolor": "white",
            "linecolor": "white",
            "ticks": ""
           }
          },
          "scene": {
           "xaxis": {
            "backgroundcolor": "#E5ECF6",
            "gridcolor": "white",
            "gridwidth": 2,
            "linecolor": "white",
            "showbackground": true,
            "ticks": "",
            "zerolinecolor": "white"
           },
           "yaxis": {
            "backgroundcolor": "#E5ECF6",
            "gridcolor": "white",
            "gridwidth": 2,
            "linecolor": "white",
            "showbackground": true,
            "ticks": "",
            "zerolinecolor": "white"
           },
           "zaxis": {
            "backgroundcolor": "#E5ECF6",
            "gridcolor": "white",
            "gridwidth": 2,
            "linecolor": "white",
            "showbackground": true,
            "ticks": "",
            "zerolinecolor": "white"
           }
          },
          "shapedefaults": {
           "line": {
            "color": "#2a3f5f"
           }
          },
          "ternary": {
           "aaxis": {
            "gridcolor": "white",
            "linecolor": "white",
            "ticks": ""
           },
           "baxis": {
            "gridcolor": "white",
            "linecolor": "white",
            "ticks": ""
           },
           "bgcolor": "#E5ECF6",
           "caxis": {
            "gridcolor": "white",
            "linecolor": "white",
            "ticks": ""
           }
          },
          "title": {
           "x": 0.05
          },
          "xaxis": {
           "automargin": true,
           "gridcolor": "white",
           "linecolor": "white",
           "ticks": "",
           "title": {
            "standoff": 15
           },
           "zerolinecolor": "white",
           "zerolinewidth": 2
          },
          "yaxis": {
           "automargin": true,
           "gridcolor": "white",
           "linecolor": "white",
           "ticks": "",
           "title": {
            "standoff": 15
           },
           "zerolinecolor": "white",
           "zerolinewidth": 2
          }
         }
        },
        "title": {
         "text": "Gas Price from 1995 to Present"
        },
        "xaxis": {
         "anchor": "y",
         "domain": [
          0,
          1
         ],
         "title": {
          "text": "Date"
         }
        },
        "yaxis": {
         "anchor": "x",
         "domain": [
          0,
          1
         ],
         "title": {
          "text": "Gas Price (USD/gallon)"
         }
        }
       }
      }
     },
     "metadata": {},
     "output_type": "display_data"
    }
   ],
   "source": [
    "# Data Visualization\n",
    "# Project 4\n",
    "# Author: Kevin Zeng\n",
    "\n",
    "import pandas as pd\n",
    "import plotly.express as px\n",
    "\n",
    "gp_df = pd.read_csv('gas_price.csv')\n",
    "\n",
    "fig = px.bar(\n",
    "    gp_df, x=gp_df['Date'], y=gp_df['All Grades (Average)'],text_auto=True,\n",
    "    title=f'Gas Price from 1995 to Present'\n",
    ")\n",
    "\n",
    "fig.update_traces(textfont_size=12, textangle=0, cliponaxis=False)\n",
    "fig.update_layout(\n",
    "    xaxis_title=\"Date\",\n",
    "    yaxis_title=\"Gas Price (USD/gallon)\"\n",
    ")\n",
    "\n",
    "fig.show()"
   ]
  }
 ],
 "metadata": {
  "interpreter": {
   "hash": "1a784479040742eb1649a62d07d103107e0d732223243dafe7891f8283e24e7a"
  },
  "kernelspec": {
   "display_name": "Python 3.9.11 ('base')",
   "language": "python",
   "name": "python3"
  },
  "language_info": {
   "codemirror_mode": {
    "name": "ipython",
    "version": 3
   },
   "file_extension": ".py",
   "mimetype": "text/x-python",
   "name": "python",
   "nbconvert_exporter": "python",
   "pygments_lexer": "ipython3",
   "version": "3.9.11"
  },
  "orig_nbformat": 4
 },
 "nbformat": 4,
 "nbformat_minor": 2
}
